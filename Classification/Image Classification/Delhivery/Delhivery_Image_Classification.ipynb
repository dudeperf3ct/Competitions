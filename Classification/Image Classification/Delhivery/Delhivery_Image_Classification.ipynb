{
 "cells": [
  {
   "cell_type": "code",
   "execution_count": 10,
   "metadata": {
    "collapsed": false
   },
   "outputs": [],
   "source": [
    "import pandas as pd\n",
    "from tqdm import tqdm\n",
    "from PIL import Image\n",
    "import random\n",
    "import numpy as np\n",
    "import os\n",
    "import socket\n",
    "from sklearn.model_selection import train_test_split\n",
    "import keras\n",
    "from keras.applications.densenet import DenseNet121\n",
    "from keras.models import Model\n",
    "from keras.layers import Dense, GlobalAveragePooling2D\n",
    "from keras.utils import to_categorical\n",
    "import urllib2\n",
    "from sklearn.preprocessing import LabelEncoder\n",
    "import matplotlib.pyplot as plt\n",
    "%matplotlib inline\n",
    "import seaborn as sns\n",
    "sns.set(color_codes=True)"
   ]
  },
  {
   "cell_type": "code",
   "execution_count": 11,
   "metadata": {
    "collapsed": false
   },
   "outputs": [
    {
     "name": "stdout",
     "output_type": "stream",
     "text": [
      "Delhivery_Image_Classification.ipynb\treplace_and_resize.py  train.csv\r\n",
      "product_description_and_categories.csv\ttest.csv\r\n"
     ]
    }
   ],
   "source": [
    "!ls\n",
    "img_path = '/media/dudeperf3ct/New Volume/x_ray_image_recognition_data_updated/x_ray_image_recognition_data/x_ray_images/train_xray_images'"
   ]
  },
  {
   "cell_type": "markdown",
   "metadata": {},
   "source": [
    "# Load and Analyse Data\n",
    "\n",
    "In this step we will load the data using pandas and analyse all the different features of the data."
   ]
  },
  {
   "cell_type": "code",
   "execution_count": 12,
   "metadata": {
    "collapsed": false
   },
   "outputs": [
    {
     "data": {
      "text/html": [
       "<div>\n",
       "<style>\n",
       "    .dataframe thead tr:only-child th {\n",
       "        text-align: right;\n",
       "    }\n",
       "\n",
       "    .dataframe thead th {\n",
       "        text-align: left;\n",
       "    }\n",
       "\n",
       "    .dataframe tbody tr th {\n",
       "        vertical-align: top;\n",
       "    }\n",
       "</style>\n",
       "<table border=\"1\" class=\"dataframe\">\n",
       "  <thead>\n",
       "    <tr style=\"text-align: right;\">\n",
       "      <th></th>\n",
       "      <th>x_ray_image_file_name</th>\n",
       "      <th>product_description</th>\n",
       "      <th>x_ray_product_description_match_status</th>\n",
       "    </tr>\n",
       "  </thead>\n",
       "  <tbody>\n",
       "    <tr>\n",
       "      <th>0</th>\n",
       "      <td>1.jpg</td>\n",
       "      <td>Acer Aspire SW3-016 10.1-inch Laptop (Atom x5-...</td>\n",
       "      <td>True</td>\n",
       "    </tr>\n",
       "    <tr>\n",
       "      <th>1</th>\n",
       "      <td>2.jpg</td>\n",
       "      <td>Apple iPhone 6S 64 GB (Golden)</td>\n",
       "      <td>True</td>\n",
       "    </tr>\n",
       "    <tr>\n",
       "      <th>2</th>\n",
       "      <td>4.jpg</td>\n",
       "      <td>7th ,8th(2) , 1st , 5th</td>\n",
       "      <td>True</td>\n",
       "    </tr>\n",
       "    <tr>\n",
       "      <th>3</th>\n",
       "      <td>5.jpg</td>\n",
       "      <td>10th Class</td>\n",
       "      <td>True</td>\n",
       "    </tr>\n",
       "    <tr>\n",
       "      <th>4</th>\n",
       "      <td>6.jpg</td>\n",
       "      <td>4th , 5th &amp; English Class</td>\n",
       "      <td>True</td>\n",
       "    </tr>\n",
       "  </tbody>\n",
       "</table>\n",
       "</div>"
      ],
      "text/plain": [
       "  x_ray_image_file_name                                product_description  \\\n",
       "0                 1.jpg  Acer Aspire SW3-016 10.1-inch Laptop (Atom x5-...   \n",
       "1                 2.jpg                     Apple iPhone 6S 64 GB (Golden)   \n",
       "2                 4.jpg                            7th ,8th(2) , 1st , 5th   \n",
       "3                 5.jpg                                         10th Class   \n",
       "4                 6.jpg                          4th , 5th & English Class   \n",
       "\n",
       "   x_ray_product_description_match_status  \n",
       "0                                    True  \n",
       "1                                    True  \n",
       "2                                    True  \n",
       "3                                    True  \n",
       "4                                    True  "
      ]
     },
     "execution_count": 12,
     "metadata": {},
     "output_type": "execute_result"
    }
   ],
   "source": [
    "train_data = pd.read_csv('train.csv')\n",
    "train_data.head(5)"
   ]
  },
  {
   "cell_type": "code",
   "execution_count": 13,
   "metadata": {
    "collapsed": false
   },
   "outputs": [
    {
     "data": {
      "text/html": [
       "<div>\n",
       "<style>\n",
       "    .dataframe thead tr:only-child th {\n",
       "        text-align: right;\n",
       "    }\n",
       "\n",
       "    .dataframe thead th {\n",
       "        text-align: left;\n",
       "    }\n",
       "\n",
       "    .dataframe tbody tr th {\n",
       "        vertical-align: top;\n",
       "    }\n",
       "</style>\n",
       "<table border=\"1\" class=\"dataframe\">\n",
       "  <thead>\n",
       "    <tr style=\"text-align: right;\">\n",
       "      <th></th>\n",
       "      <th>x_ray_image_file_name</th>\n",
       "      <th>product_description</th>\n",
       "      <th>x_ray_product_description_match_status</th>\n",
       "    </tr>\n",
       "  </thead>\n",
       "  <tbody>\n",
       "    <tr>\n",
       "      <th>count</th>\n",
       "      <td>112962</td>\n",
       "      <td>112960</td>\n",
       "      <td>112962</td>\n",
       "    </tr>\n",
       "    <tr>\n",
       "      <th>unique</th>\n",
       "      <td>112962</td>\n",
       "      <td>25917</td>\n",
       "      <td>2</td>\n",
       "    </tr>\n",
       "    <tr>\n",
       "      <th>top</th>\n",
       "      <td>43681.jpg</td>\n",
       "      <td>Mobile Phone</td>\n",
       "      <td>True</td>\n",
       "    </tr>\n",
       "    <tr>\n",
       "      <th>freq</th>\n",
       "      <td>1</td>\n",
       "      <td>1948</td>\n",
       "      <td>103464</td>\n",
       "    </tr>\n",
       "  </tbody>\n",
       "</table>\n",
       "</div>"
      ],
      "text/plain": [
       "       x_ray_image_file_name product_description  \\\n",
       "count                 112962              112960   \n",
       "unique                112962               25917   \n",
       "top                43681.jpg        Mobile Phone   \n",
       "freq                       1                1948   \n",
       "\n",
       "       x_ray_product_description_match_status  \n",
       "count                                  112962  \n",
       "unique                                      2  \n",
       "top                                      True  \n",
       "freq                                   103464  "
      ]
     },
     "execution_count": 13,
     "metadata": {},
     "output_type": "execute_result"
    }
   ],
   "source": [
    "train_data.describe(include='all')"
   ]
  },
  {
   "cell_type": "code",
   "execution_count": 14,
   "metadata": {
    "collapsed": false
   },
   "outputs": [
    {
     "name": "stdout",
     "output_type": "stream",
     "text": [
      "x_ray_image_file_name                     0\n",
      "product_description                       2\n",
      "x_ray_product_description_match_status    0\n",
      "dtype: int64\n",
      "... Label Distribution ...\n",
      "True     103464\n",
      "False      9498\n",
      "Name: x_ray_product_description_match_status, dtype: int64\n"
     ]
    }
   ],
   "source": [
    "print (train_data.isnull().sum())\n",
    "print ('... Label Distribution ...')\n",
    "print (train_data.x_ray_product_description_match_status.value_counts())"
   ]
  },
  {
   "cell_type": "code",
   "execution_count": 15,
   "metadata": {
    "collapsed": false
   },
   "outputs": [
    {
     "data": {
      "text/plain": [
       "<matplotlib.axes._subplots.AxesSubplot at 0x7f4b91b96d90>"
      ]
     },
     "execution_count": 15,
     "metadata": {},
     "output_type": "execute_result"
    },
    {
     "data": {
      "image/png": "[encoded data removed]",
      "text/plain": [
       "<matplotlib.figure.Figure at 0x7f4b93c6bf10>"
      ]
     },
     "metadata": {},
     "output_type": "display_data"
    }
   ],
   "source": [
    "sns.countplot(x=\"x_ray_product_description_match_status\", data=train_data, palette=\"Greens_d\")"
   ]
  },
  {
   "cell_type": "code",
   "execution_count": 16,
   "metadata": {
    "collapsed": true
   },
   "outputs": [],
   "source": [
    " _PIL_INTERPOLATION_METHODS = {\n",
    "        'nearest': Image.NEAREST,\n",
    "        'bilinear': Image.BILINEAR,\n",
    "        'bicubic': Image.BICUBIC,\n",
    "}\n",
    "def loadimg(img, target_size=(224, 224), interpolation='nearest'):\n",
    "    if target_size is not None:\n",
    "        width_height_tuple = (target_size[1], target_size[0])\n",
    "    if img.size != width_height_tuple:\n",
    "        if interpolation not in _PIL_INTERPOLATION_METHODS:\n",
    "            raise ValueError(\n",
    "                'Invalid interpolation method {} specified. Supported '\n",
    "                'methods are {}'.format(\n",
    "                    interpolation,\n",
    "                    \", \".join(_PIL_INTERPOLATION_METHODS.keys())))\n",
    "        resample = _PIL_INTERPOLATION_METHODS[interpolation]\n",
    "        img = img.resize(width_height_tuple, resample)\n",
    "    return img"
   ]
  },
  {
   "cell_type": "code",
   "execution_count": 17,
   "metadata": {
    "collapsed": false
   },
   "outputs": [
    {
     "name": "stdout",
     "output_type": "stream",
     "text": [
      "Apple iPhone 6S 64 GB (Golden)\n",
      "True\n",
      "(445, 764)\n"
     ]
    },
    {
     "data": {
      "image/png": "[encoded data removed]",
      "text/plain": [
       "<matplotlib.figure.Figure at 0x7f4b91b47c50>"
      ]
     },
     "metadata": {},
     "output_type": "display_data"
    }
   ],
   "source": [
    "image, product_desc, label = train_data.iloc[1]\n",
    "img = Image.open(os.path.join(img_path, image))\n",
    "plt.imshow(img)\n",
    "print (product_desc)\n",
    "print (label)\n",
    "print (img.size)\n",
    "\n",
    "# img1 = loadimg(img, target_size=(224, 224), interpolation='nearest')\n",
    "# plt.imshow(img1)\n",
    "# print (img1.size)"
   ]
  },
  {
   "cell_type": "markdown",
   "metadata": {},
   "source": [
    "# Data Preprocessing (Not Required)\n",
    "\n",
    "This step we will remove all the entries from data (rows) which have broken links. Nothing can be done about that!"
   ]
  },
  {
   "cell_type": "code",
   "execution_count": 94,
   "metadata": {
    "collapsed": false
   },
   "outputs": [
    {
     "name": "stdout",
     "output_type": "stream",
     "text": [
      "x_ray_image_file_name                     0\n",
      "product_description                       2\n",
      "x_ray_product_description_match_status    0\n",
      "dtype: int64\n"
     ]
    }
   ],
   "source": [
    "print (train_data.isnull().sum())"
   ]
  },
  {
   "cell_type": "code",
   "execution_count": 99,
   "metadata": {
    "collapsed": true
   },
   "outputs": [],
   "source": [
    "def preprocess_imgs(images):\n",
    "    data = []\n",
    "    for imgs in tqdm(images):\n",
    "        img = Image.open(os.path.join(img_path, imgs))\n",
    "        resized_img = loadimg(img, target_size=(224, 224), interpolation='nearest')\n",
    "        data.append(np.asarray(resized_img))\n",
    "    return data"
   ]
  },
  {
   "cell_type": "code",
   "execution_count": 100,
   "metadata": {
    "collapsed": false
   },
   "outputs": [],
   "source": [
    "num_class = len(train_data.x_ray_product_description_match_status.unique())\n",
    "x, y = train_data['x_ray_image_file_name'], train_data['x_ray_product_description_match_status']"
   ]
  },
  {
   "cell_type": "code",
   "execution_count": 101,
   "metadata": {
    "collapsed": false,
    "scrolled": true
   },
   "outputs": [
    {
     "name": "stderr",
     "output_type": "stream",
     "text": [
      "100%|██████████| 1/1 [00:00<00:00,  9.29it/s]"
     ]
    },
    {
     "name": "stdout",
     "output_type": "stream",
     "text": [
      "('Training set', (1, 224, 224, 3), (1, 2))\n"
     ]
    },
    {
     "name": "stderr",
     "output_type": "stream",
     "text": [
      "\n"
     ]
    }
   ],
   "source": [
    "train_x = preprocess_imgs(x[:1])\n",
    "lb = LabelEncoder()\n",
    "train_y = lb.fit_transform(y[:1])\n",
    "train_x = np.asarray(train_x)\n",
    "train_y = np.asarray(train_y)\n",
    "train_y = to_categorical(train_y, num_classes=num_class)\n",
    "print ('Training set', train_x.shape, train_y.shape)"
   ]
  },
  {
   "cell_type": "code",
   "execution_count": 31,
   "metadata": {
    "collapsed": false
   },
   "outputs": [
    {
     "name": "stdout",
     "output_type": "stream",
     "text": [
      "('Training set', (400, 224, 224, 3), (400, 24))\n",
      "('Validation set', (100, 224, 224, 3), (100, 24))\n"
     ]
    }
   ],
   "source": [
    "train_x, val_x, train_y, val_y = train_test_split(train_x, train_y, test_size=0.20)\n",
    "print ('Training set', train_x.shape, train_y.shape)\n",
    "print ('Validation set', val_x.shape, val_y.shape)"
   ]
  },
  {
   "cell_type": "markdown",
   "metadata": {},
   "source": [
    "# Baseline Model\n",
    "\n",
    "Get a simple working model for above data. Use a pretrained model e.g. Resnet, VGG16, Inception"
   ]
  },
  {
   "cell_type": "code",
   "execution_count": 32,
   "metadata": {
    "collapsed": true
   },
   "outputs": [],
   "source": [
    "def base_model():\n",
    "\n",
    "    # create the base pre-trained model\n",
    "    base_model = DenseNet121(weights='imagenet', include_top=False)\n",
    "\n",
    "    # add a global spatial average pooling layer\n",
    "    x = base_model.output\n",
    "    x = GlobalAveragePooling2D()(x)\n",
    "    predictions = Dense(num_class, activation='softmax')(x)\n",
    "    \n",
    "    model = Model(inputs=base_model.input, outputs=predictions)\n",
    " \n",
    "    return model"
   ]
  },
  {
   "cell_type": "code",
   "execution_count": 33,
   "metadata": {
    "collapsed": false
   },
   "outputs": [
    {
     "name": "stdout",
     "output_type": "stream",
     "text": [
      "Downloading data from https://github.com/fchollet/deep-learning-models/releases/download/v0.8/densenet121_weights_tf_dim_ordering_tf_kernels_notop.h5\n",
      "30015488/30011760 [==============================] - 50s 2us/step\n",
      "30023680/30011760 [==============================] - 50s 2us/step\n"
     ]
    }
   ],
   "source": [
    "model = base_model()\n",
    "model.compile(loss='categorical_crossentropy', optimizer='adam', metrics=['acc'])\n",
    "model.fit(train_x, train_y, epochs=10, batch_size=32, validation_data=(val_x, val_y))"
   ]
  },
  {
   "cell_type": "code",
   "execution_count": null,
   "metadata": {
    "collapsed": true
   },
   "outputs": [],
   "source": []
  },
  {
   "cell_type": "code",
   "execution_count": null,
   "metadata": {
    "collapsed": true
   },
   "outputs": [],
   "source": []
  }
 ],
 "metadata": {
  "kernelspec": {
   "display_name": "Python 2",
   "language": "python",
   "name": "python2"
  },
  "language_info": {
   "codemirror_mode": {
    "name": "ipython",
    "version": 2
   },
   "file_extension": ".py",
   "mimetype": "text/x-python",
   "name": "python",
   "nbconvert_exporter": "python",
   "pygments_lexer": "ipython2",
   "version": "2.7.12"
  }
 },
 "nbformat": 4,
 "nbformat_minor": 0
}
