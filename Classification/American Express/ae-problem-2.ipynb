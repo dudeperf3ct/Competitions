{
  "cells": [
    {
      "metadata": {
        "_uuid": "8f2839f25d086af736a60e9eeb907d3b93b6e0e5",
        "_cell_guid": "b1076dfc-b9ad-4769-8c92-a6c4dae69d19",
        "trusted": true,
        "collapsed": true
      },
      "cell_type": "code",
      "source": "# This Python 3 environment comes with many helpful analytics libraries installed\n# It is defined by the kaggle/python docker image: https://github.com/kaggle/docker-python\n# For example, here's several helpful packages to load in \n\nimport numpy as np # linear algebra\nimport pandas as pd # data processing, CSV file I/O (e.g. pd.read_csv)\nfrom IPython.display import display\nimport matplotlib.pyplot as plt\n%matplotlib inline\nimport seaborn as sns\n\nfrom sklearn.preprocessing import LabelEncoder, MinMaxScaler, StandardScaler\nfrom sklearn.model_selection import train_test_split\nfrom sklearn.ensemble import RandomForestClassifier\nfrom sklearn.metrics import roc_auc_score, auc, roc_curve\nimport scikitplot as skplt\n\n\n# Input data files are available in the \"../input/\" directory.\n# For example, running this (by clicking run or pressing Shift+Enter) will list the files in the input directory\nimport time\nimport os\nprint(os.listdir(\"../input/6f970556-9-dataset_-_problem_2/Dataset - Problem 2\"))\nPATH = \"../input/6f970556-9-dataset_-_problem_2/Dataset - Problem 2\"\n# Any results you write to the current directory are saved as output.",
      "execution_count": null,
      "outputs": []
    },
    {
      "metadata": {
        "_uuid": "f28073d3367a28d1a014968d1ea7b4946d06fcbc"
      },
      "cell_type": "markdown",
      "source": "Binary-class data with 406709 rows and 54 variables (10 Numerical and 44 Categorical). The header file is provided whose first row mentions the variable names and second row mentions the type of those respective variables (Numerical, Categorical). The first column of the data is the unique identifier for each row. The last column mentions the class/label for each row."
    },
    {
      "metadata": {
        "trusted": true,
        "_uuid": "edbbe75985d67f6d5e8c589b6c1cdc26acfe27a1",
        "collapsed": true
      },
      "cell_type": "code",
      "source": "header = pd.read_csv(PATH+'/header.csv')\ndisplay (header.head())\nprint (header.shape)",
      "execution_count": null,
      "outputs": []
    },
    {
      "metadata": {
        "trusted": true,
        "_uuid": "0d1271a1665ce74bb2bde6fdbe38ac56b43f78c6",
        "collapsed": true
      },
      "cell_type": "code",
      "source": "d =['V'+str(i) for i in range(1, 55)]\ncols = ['key'] + d + ['L']\nprint (cols)",
      "execution_count": null,
      "outputs": []
    },
    {
      "metadata": {
        "_cell_guid": "79c7e3d0-c299-4dcb-8224-4455121ee9b0",
        "_uuid": "d629ff2d2480ee46fbb7e2d37f6b5fab8052498a",
        "trusted": true,
        "collapsed": true
      },
      "cell_type": "code",
      "source": "train_data = pd.read_csv(PATH+'/train.csv', header=None, names=cols)\ndisplay (train_data.head())\nprint (train_data.shape)",
      "execution_count": null,
      "outputs": []
    },
    {
      "metadata": {
        "trusted": true,
        "scrolled": true,
        "_uuid": "d486401b823d35d9fee8e5815aad6d86097afed1",
        "collapsed": true
      },
      "cell_type": "code",
      "source": "train_data.info()",
      "execution_count": null,
      "outputs": []
    },
    {
      "metadata": {
        "trusted": true,
        "_uuid": "4f2e1546b800e7f6dd3958b4d87c56047d19aa02",
        "collapsed": true
      },
      "cell_type": "code",
      "source": "train_data.describe()",
      "execution_count": null,
      "outputs": []
    },
    {
      "metadata": {
        "trusted": true,
        "_uuid": "1440efff19be325f3218f7bf0018a3d26505adc0",
        "collapsed": true
      },
      "cell_type": "code",
      "source": "train_data.iloc[:,11:-1].sum(axis=1).sum()/406709.0 ## two categorical variables one hotted into 44 categorical variables",
      "execution_count": null,
      "outputs": []
    },
    {
      "metadata": {
        "trusted": true,
        "_uuid": "e49cef1a6459a2e1d8f9390f3df3d26f2c9c1f19",
        "collapsed": true
      },
      "cell_type": "code",
      "source": "## find the two categorical varibles\nfor i in range(11,56):\n    print (train_data.iloc[:,11:i].sum(axis=1).sum()/406709.0,i)\n    \n## 11-15 one categorical variable, 16-55 another one",
      "execution_count": null,
      "outputs": []
    },
    {
      "metadata": {
        "trusted": true,
        "_uuid": "e22f213592cf9319c7a223192458f115296cc2bd",
        "collapsed": true
      },
      "cell_type": "code",
      "source": "print (train_data.iloc[:, 11:15].values)\ntrain_data['cat_1'] = train_data.iloc[:, 11:15].values.argmax(axis=1)\nprint (train_data.iloc[:, 11:15].values.argmax(axis=1))",
      "execution_count": null,
      "outputs": []
    },
    {
      "metadata": {
        "trusted": true,
        "_uuid": "716c3e647a814009d5911469ec93bf591aca8437",
        "collapsed": true
      },
      "cell_type": "code",
      "source": "print (train_data.iloc[:, 15:55].values)\ntrain_data['cat_2'] = train_data.iloc[:, 15:55].values.argmax(axis=1)\nprint (train_data.iloc[:, 15:55].values.argmax(axis=1))",
      "execution_count": null,
      "outputs": []
    },
    {
      "metadata": {
        "trusted": true,
        "collapsed": true,
        "_uuid": "8bdf7e8f5c3f905968d1ed49a958411803ca6e4d"
      },
      "cell_type": "code",
      "source": "train_data['sum']=train_data.loc[:,'V1':'V10'].sum(axis=1)",
      "execution_count": null,
      "outputs": []
    },
    {
      "metadata": {
        "trusted": true,
        "_uuid": "675584306da0e0982159e086733de1a48863c88d",
        "collapsed": true
      },
      "cell_type": "code",
      "source": "display(train_data.head())",
      "execution_count": null,
      "outputs": []
    },
    {
      "metadata": {
        "trusted": true,
        "_uuid": "af326de7064bf7f942aa11c59ec349e988e517a2",
        "collapsed": true
      },
      "cell_type": "code",
      "source": "new_cols = list(train_data.iloc[:, 11:55].columns)\nprint (new_cols)\ntrain_new_data = train_data.drop(new_cols, axis=1)\ndisplay(train_new_data.head())\nprint (train_new_data.shape)",
      "execution_count": null,
      "outputs": []
    },
    {
      "metadata": {
        "trusted": true,
        "_uuid": "2ae3b33b8b12bf6d9308806d0f7a9e5b7a1b278f",
        "collapsed": true
      },
      "cell_type": "code",
      "source": "sns.countplot(x='L', data=train_data)\nprint (train_data.L.value_counts())",
      "execution_count": null,
      "outputs": []
    },
    {
      "metadata": {
        "trusted": true,
        "_uuid": "768df7e4e477f1c524c01596145d61bc5df3ba3b",
        "collapsed": true
      },
      "cell_type": "code",
      "source": "sns.heatmap(train_data.corr())",
      "execution_count": null,
      "outputs": []
    },
    {
      "metadata": {
        "trusted": true,
        "_uuid": "bb9c61a6fffaa0a91cf9eb7a564c7758df48729b",
        "collapsed": true
      },
      "cell_type": "code",
      "source": "mm = StandardScaler()\ncategories_cols = []\nnumeric_cols = []\n\nfor c in train_data.columns:\n    if header[c].values == 'C':\n        categories_cols.append(c)\n    if header[c].values == 'N':\n        numeric_cols.append(c)\ntrain_num = train_data[numeric_cols]\ntrain_cat = train_data[categories_cols]\n\nprint (train_num.shape, train_cat.shape, train_data.shape)",
      "execution_count": null,
      "outputs": []
    },
    {
      "metadata": {
        "trusted": true,
        "_uuid": "cdccd7777568ae69a9f855d0f2a0d864b32e3c85",
        "collapsed": true
      },
      "cell_type": "code",
      "source": "#optional\ntrain_num = mm.fit_transform(train_num)\ntrain_num = pd.DataFrame(train_num, columns=numeric_cols)\ndisplay (train_num.head())",
      "execution_count": null,
      "outputs": []
    },
    {
      "metadata": {
        "trusted": true,
        "_uuid": "8e9bd8487ac64ad824b2cea27ef1402715b3a7be",
        "collapsed": true
      },
      "cell_type": "code",
      "source": "train_data.update(train_num)\ndisplay (train_data.head())\nprint (train_data.shape)",
      "execution_count": null,
      "outputs": []
    },
    {
      "metadata": {
        "trusted": true,
        "_uuid": "985de34ac0519c5aeb78e934d062c33119794844",
        "collapsed": true
      },
      "cell_type": "code",
      "source": "#Using target enconding\n\nimport category_encoders as ce\ntarget_encoding = ce.target_encoder.TargetEncoder(cols=['cat_2'])\ndata = train_new_data[['cat_2']]\ndisplay(data.head())\nprint (data.shape, labels.shape)\ndata_new = target_encoding.fit_transform(data, labels)\n\ntrain_new = train_new_data\ntrain_new.update(data_new)\ndisplay(train_new.head())",
      "execution_count": null,
      "outputs": []
    },
    {
      "metadata": {
        "trusted": true,
        "_uuid": "9daf873ba9a9a7a3778c98aa9c31191ed4a433c2",
        "collapsed": true
      },
      "cell_type": "code",
      "source": "# from sklearn.decomposition import PCA\n\n# pca = PCA(n_components=20)\n# train_pca_data = pca.fit_transform(train_data)\n# print (train_pca_data.shape)",
      "execution_count": null,
      "outputs": []
    },
    {
      "metadata": {
        "trusted": true,
        "_uuid": "b4612e1de68cdec4323914a94a68057261e9f931",
        "collapsed": true
      },
      "cell_type": "code",
      "source": "labels = train_new_data['L']\ntrain_new_data = train_new_data.drop(['L'], axis=1)\nprint (train_new_data.shape, labels.shape)",
      "execution_count": null,
      "outputs": []
    },
    {
      "metadata": {
        "trusted": true,
        "_uuid": "a176d6ba5f96df1264af08a7b8a14fd6b4295dce",
        "collapsed": true
      },
      "cell_type": "code",
      "source": "train_x, val_x, train_y, val_y = train_test_split(train_new_data, labels, test_size=0.2, stratify=labels)\nprint ('Training Shape', train_x.shape, train_y.shape)\nprint ('Validation Shape', val_x.shape, val_y.shape)",
      "execution_count": null,
      "outputs": []
    },
    {
      "metadata": {
        "trusted": true,
        "collapsed": true,
        "_uuid": "335e35c1e0222bf1ef53cabf66eafad978d6e332"
      },
      "cell_type": "markdown",
      "source": "# Model"
    },
    {
      "metadata": {
        "trusted": true,
        "_uuid": "6a096088c5ea32f877378ca95315a9160bbf752c",
        "collapsed": true
      },
      "cell_type": "code",
      "source": "from sklearn.model_selection import RandomizedSearchCV\nfrom sklearn.grid_search import GridSearchCV\nfrom sklearn.ensemble import BaggingClassifier, ExtraTreesClassifier",
      "execution_count": null,
      "outputs": []
    },
    {
      "metadata": {
        "trusted": true,
        "collapsed": true,
        "_uuid": "547cd884bb770563717802efcf275493c716ba82"
      },
      "cell_type": "code",
      "source": "from sklearn.linear_model import LogisticRegression\nfrom sklearn.neighbors import KNeighborsClassifier\nfrom sklearn.svm import SVC, LinearSVC, NuSVC\nfrom sklearn.tree import DecisionTreeClassifier\nfrom sklearn.ensemble import RandomForestClassifier, AdaBoostClassifier, GradientBoostingClassifier\nfrom sklearn.naive_bayes import GaussianNB",
      "execution_count": null,
      "outputs": []
    },
    {
      "metadata": {
        "trusted": true,
        "collapsed": true,
        "_uuid": "a46739a3d27f6355ee7777dbb7fbb84cd09f6c6f"
      },
      "cell_type": "code",
      "source": "classifiers = [\n    LogisticRegression(C=0.000000001, max_iter=400),\n    KNeighborsClassifier(2),\n    GaussianNB(),\n    DecisionTreeClassifier(),\n    RandomForestClassifier(n_estimators=500),\n    ExtraTreesClassifier(n_estimators=500),\n    AdaBoostClassifier(n_estimators=50)]",
      "execution_count": null,
      "outputs": []
    },
    {
      "metadata": {
        "_uuid": "1f0916405191b0d68ffbc638c03bf77a4cddf04f"
      },
      "cell_type": "markdown",
      "source": "# Test Data Preprocessing"
    },
    {
      "metadata": {
        "trusted": true,
        "_uuid": "889f6067ff144d166a3256a7becaee94b6f8d36b",
        "collapsed": true
      },
      "cell_type": "code",
      "source": "test_data = pd.read_csv(PATH+'/test.csv', header=None, names=cols)\ntest_data = test_data.drop(['L'], axis=1)\ndisplay (test_data.head())\nprint (test_data.shape)",
      "execution_count": null,
      "outputs": []
    },
    {
      "metadata": {
        "trusted": true,
        "scrolled": true,
        "_uuid": "32faf565556f60f3686aebe4f31e0f8231c74b0a",
        "collapsed": true
      },
      "cell_type": "code",
      "source": "test_data.info()",
      "execution_count": null,
      "outputs": []
    },
    {
      "metadata": {
        "trusted": true,
        "_uuid": "79ba86d7c0c0bb80b4e531b4f12a77ec50471d34",
        "collapsed": true
      },
      "cell_type": "code",
      "source": "test_data['cat_1'] = test_data.iloc[:, 11:15].values.argmax(axis=1)\ntest_data['cat_2'] = test_data.iloc[:, 15:55].values.argmax(axis=1)\ntest_data['sum'] = test_data.loc[:,'V1':'V10'].sum(axis=1)\n\ntest_new_data = test_data.drop(new_cols, axis=1)\ndisplay(test_new_data.head())\nprint (test_new_data.shape)",
      "execution_count": null,
      "outputs": []
    },
    {
      "metadata": {
        "trusted": true,
        "_uuid": "4f48e58d94ac4fd4c10c9ebf38ac0a0ff4c885c3",
        "collapsed": true
      },
      "cell_type": "code",
      "source": "test_num = test_data[numeric_cols]\n\ntest_num = mm.fit_transform(test_num)\ntest_num = pd.DataFrame(test_num, columns=numeric_cols)\ndisplay (test_num.head())",
      "execution_count": null,
      "outputs": []
    },
    {
      "metadata": {
        "trusted": true,
        "_uuid": "2042b9f6ef522321a55534cc19bf9a0033eb0d99",
        "collapsed": true
      },
      "cell_type": "code",
      "source": "test_data.update(test_num)\ndisplay (test_data.head())\nprint (test_data.shape)",
      "execution_count": null,
      "outputs": []
    },
    {
      "metadata": {
        "trusted": true,
        "_uuid": "677c9b6b6ef942887c93cc0a18e22be91c8f09eb",
        "collapsed": true
      },
      "cell_type": "code",
      "source": "# test_pca_data = pca.transform(test_data)\n# print (test_pca_data.shape)",
      "execution_count": null,
      "outputs": []
    },
    {
      "metadata": {
        "trusted": true,
        "_uuid": "61fc57decfce30cc69fb24e540ccb3ecc550760b",
        "collapsed": true
      },
      "cell_type": "code",
      "source": "Accuracy=[]\nModel=[]\nfor clf in classifiers:\n    start = time.time()\n    clf.fit(train_x, train_y)\n    pred = clf.predict(val_x)\n    auc = roc_auc_score(val_y, pred)\n    Accuracy.append(auc)\n    Model.append(clf.__class__.__name__)\n    print('Auc score of '+ clf.__class__.__name__+' is '+ str(auc))\n    print ('Time taken for training', time.time()-start, 'sec')\n    test_pred = clf.predict_proba(test_new_data)\n    pred = test_pred[:, 1]\n    sub = pd.DataFrame()\n    sub['key'] = test_data['key']\n    sub['score'] = pred\n    sub.to_csv('submit_'+clf.__class__.__name__+'.csv', index=False)",
      "execution_count": null,
      "outputs": []
    },
    {
      "metadata": {
        "trusted": true,
        "_uuid": "4fc158b4a7bd0005a37cbe2da98de13c973daee4",
        "collapsed": true
      },
      "cell_type": "code",
      "source": "# Index = [1,2,3,4,5,6,7]\n# plt.bar(Index,Accuracy)\n# plt.xticks(Index, Model, rotation=45)\n# plt.ylabel('Accuracy')\n# plt.xlabel('Model')\n# plt.title('Auc scores of Models')",
      "execution_count": null,
      "outputs": []
    },
    {
      "metadata": {
        "trusted": true,
        "_uuid": "b646b148a2aca4920339fb21979bb0814aeedc4c",
        "collapsed": true
      },
      "cell_type": "code",
      "source": "",
      "execution_count": null,
      "outputs": []
    },
    {
      "metadata": {
        "trusted": true,
        "_uuid": "123c7690e01a3c29993ae9e07a827b49b3e5e013",
        "collapsed": true
      },
      "cell_type": "markdown",
      "source": "# Stacking Models"
    },
    {
      "metadata": {
        "trusted": true,
        "_uuid": "349117504dd39ff026bb2cfe16a63edcdcfb821b",
        "collapsed": true
      },
      "cell_type": "code",
      "source": "from mlxtend.classifier import StackingClassifier\nfrom sklearn.model_selection import cross_val_score\n\nclf1 = RandomForestClassifier(n_estimators=500, max_features=50)\nclf2 = ExtraTreesClassifier(n_estimators=500, max_features=50)\nlr = LogisticRegression()\nclf3 = BaggingClassifier(n_estimators=500, random_state=42, max_features=50)\nsclf = StackingClassifier(classifiers=[clf1, clf2, clf3], \n                          meta_classifier=lr)\n\nfor clf, label in zip([clf1, clf2, clf3, sclf], \n                      [ 'Random Forest', \n                       'Extra Trees',\n                       'Bagging',\n                       'StackingClassifier']):\n\n    clf.fit(train_x, train_y)\n    pred = clf.predict(val_x)\n    auc = roc_auc_score(val_y, pred)\n    test_pred = clf.predict_proba(test_data)\n    pred = test_pred[:, 1]\n    sub = pd.DataFrame()\n    sub['key'] = test_data['key']\n    sub['score'] = pred\n    sub.to_csv('submit_'+label+'.csv', index=False)\n    print(\"AUC:\", (auc))",
      "execution_count": null,
      "outputs": []
    },
    {
      "metadata": {
        "_uuid": "1928b0f5e1b7c6516d9fa01b7d6f787d4d024433"
      },
      "cell_type": "markdown",
      "source": "# XGB Boost"
    },
    {
      "metadata": {
        "trusted": true,
        "_uuid": "0b9f9d76cd4d11bca943f628fd7ffafd8277ff6a",
        "collapsed": true
      },
      "cell_type": "code",
      "source": "import xgboost as xgb\n\n# # Parameter Tuning\n# model = xgb.XGBClassifier()\n# param_dist = {\"max_depth\": [10,30,50],\n#               \"min_child_weight\" : [1,3,6],\n#               \"n_estimators\": [200],\n#               \"learning_rate\": [0.05, 0.1,0.16]}\n# grid_search = GridSearchCV(model, param_grid=param_dist, cv = 3, \n#                                    scoring='accuracy', verbose=10, n_jobs=-1)\n# grid_search.fit(train_x, train_y)\n# print (grid_search.best_estimator_)\n#max_depth=50, min_child_weight=1,  n_estimators=200,\\\n#                          n_jobs=-1 , verbose=1,learning_rate=0.16\nmodel = xgb.XGBClassifier(n_estimators=500, max_depth=50, booster='dart')\nmodel.fit(train_x, train_y)\npred = model.predict(val_x)\nauc = roc_auc_score(val_y, pred)\n\ntest_pred = model.predict_proba(test_data)\npred = test_pred[:, 1]\nsub = pd.DataFrame()\nsub['key'] = test_data['key']\nsub['score'] = pred\nsub.to_csv('submit_xgb.csv', index=False)\nprint(\"AUC:\", (auc))",
      "execution_count": null,
      "outputs": []
    },
    {
      "metadata": {
        "_uuid": "bb7ecc8429dc35989deed56609a8077b27bf5250"
      },
      "cell_type": "markdown",
      "source": "# LightGBM"
    },
    {
      "metadata": {
        "trusted": true,
        "_uuid": "a9bd4bba8a7de780c2d7dc8bd7f2fe9e30733711",
        "collapsed": true
      },
      "cell_type": "code",
      "source": "import lightgbm as lgb\n\n# #parameter tuning\nmodel = lgb.LGBMClassifier(n_estimators=500, boosting_type='dart', silent=False, max_depth=20, num_leaves=1000)\n# param_dist = {\"max_depth\": [25,50, 75],\n#               \"learning_rate\" : [0.01,0.05,0.1],\n#               \"num_leaves\": [300,900,1200],\n#               \"n_estimators\": [200]\n#              }\n# grid_search = GridSearchCV(lg, n_jobs=-1, param_grid=param_dist, cv = 3, scoring=\"accuracy\", verbose=5)\n# grid_search.fit(train_x, train_y)\n# print (grid_search.best_estimator_)\n\n# d_train = lgb.Dataset(train_x, label=train_y)\n# params = {\"max_depth\": 50, \"learning_rate\" : 0.1, \"num_leaves\": 900,  \"n_estimators\": 300}\n\n# # #With Catgeorical Features\nmodel.fit(train_x, train_y, categorical_feature = list(categories_cols))\npred = model.predict(val_x)\nauc = roc_auc_score(val_y, pred)\n\ntest_pred = model.predict_proba(test_data)\npred = test_pred[:, 1]\nsub = pd.DataFrame()\nsub['key'] = test_data['key']\nsub['score'] = pred\nsub.to_csv('submit_lgb.csv', index=False)\nprint(\"AUC:\", (auc))",
      "execution_count": null,
      "outputs": []
    },
    {
      "metadata": {
        "trusted": true,
        "collapsed": true,
        "_uuid": "5056b958ab9a49ef6c0be18816e2258e2fd02ab4"
      },
      "cell_type": "code",
      "source": "",
      "execution_count": null,
      "outputs": []
    },
    {
      "metadata": {
        "trusted": true,
        "collapsed": true,
        "_uuid": "77f141d195ef508ed22df47077040467afa3630f"
      },
      "cell_type": "code",
      "source": "import xgboost as xgb\n\n## gradient boosting\ndef run(train,lables,test,params):\n    dtrain=xgb.DMatrix(train,label=lables)\n    dtest=xgb.DMatrix(test)\n    bst=xgb.train(dtrain=dtrain,params=params,num_boost_round=700)\n    preds=bst.predict(dtest)\n    return bst,preds\n\nparams={\n    'objective':'binary:logistic',\n    'max_depth':27,\n    'eta':0.08,\n    'subsample':0.9,\n#     'eval_metric': 'auc'\n}",
      "execution_count": null,
      "outputs": []
    },
    {
      "metadata": {
        "trusted": true,
        "_uuid": "af48b42e61a9567e6829b0e435f3b6f15ffeccb4",
        "collapsed": true
      },
      "cell_type": "code",
      "source": "start = time.time()\nbst,probs=run(train_x,train_y,val_x,params)\nprint (roc_auc_score(val_y,probs))\nprint ('Time taken for training', time.time()-start, 'sec')\n# 0.9984964681315754 no target encoding\n# 0.9985171552493545 both cat_1 and cat_2\n# 0.9984994316004411 only cat_1 ",
      "execution_count": null,
      "outputs": []
    },
    {
      "metadata": {
        "trusted": true,
        "collapsed": true,
        "_uuid": "a7c0a72b4334e815e282fba3426e737bda43b497"
      },
      "cell_type": "code",
      "source": "",
      "execution_count": null,
      "outputs": []
    },
    {
      "metadata": {
        "trusted": true,
        "collapsed": true,
        "_uuid": "37f1b4aa99480722c3b3f3b527c9f383e2142897"
      },
      "cell_type": "code",
      "source": "",
      "execution_count": null,
      "outputs": []
    }
  ],
  "metadata": {
    "kernelspec": {
      "display_name": "Python 3",
      "language": "python",
      "name": "python3"
    },
    "language_info": {
      "name": "python",
      "version": "3.6.4",
      "mimetype": "text/x-python",
      "codemirror_mode": {
        "name": "ipython",
        "version": 3
      },
      "pygments_lexer": "ipython3",
      "nbconvert_exporter": "python",
      "file_extension": ".py"
    }
  },
  "nbformat": 4,
  "nbformat_minor": 1
}