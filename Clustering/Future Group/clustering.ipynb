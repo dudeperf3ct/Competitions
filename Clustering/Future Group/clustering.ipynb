{
 "cells": [
  {
   "cell_type": "code",
   "execution_count": 19,
   "metadata": {
    "collapsed": false
   },
   "outputs": [],
   "source": [
    "import pandas as pd\n",
    "import seaborn as sns"
   ]
  },
  {
   "cell_type": "code",
   "execution_count": 34,
   "metadata": {
    "collapsed": false
   },
   "outputs": [],
   "source": [
    "#Predict clusters of customers by store location\n",
    "cproducts = pd.read_csv('Dataset/cproducts.csv')\n",
    "cproducts.head()\n",
    "ctender = pd.read_csv('Dataset/ctender.csv')"
   ]
  },
  {
   "cell_type": "code",
   "execution_count": 35,
   "metadata": {
    "collapsed": false
   },
   "outputs": [
    {
     "name": "stdout",
     "output_type": "stream",
     "text": [
      "Index([u'customerID', u'DOB', u'Gender', u'State', u'PinCode',\n",
      "       u'transactionDate', u'store_code', u'store_description', u'till_no',\n",
      "       u'transaction_number_by_till', u'promo_code', u'promotion_description',\n",
      "       u'product_code', u'product_description', u'sale_price_after_promo',\n",
      "       u'discountUsed'],\n",
      "      dtype='object')\n",
      "customerID                    False\n",
      "DOB                            True\n",
      "Gender                         True\n",
      "State                          True\n",
      "PinCode                        True\n",
      "transactionDate               False\n",
      "store_code                    False\n",
      "store_description             False\n",
      "till_no                       False\n",
      "transaction_number_by_till    False\n",
      "promo_code                    False\n",
      "promotion_description          True\n",
      "product_code                  False\n",
      "product_description           False\n",
      "sale_price_after_promo        False\n",
      "discountUsed                  False\n",
      "dtype: bool\n",
      "customerID                       0\n",
      "DOB                            319\n",
      "Gender                        1028\n",
      "State                         1583\n",
      "PinCode                        817\n",
      "transactionDate                  0\n",
      "store_code                       0\n",
      "store_description                0\n",
      "till_no                          0\n",
      "transaction_number_by_till       0\n",
      "promo_code                       0\n",
      "promotion_description         8510\n",
      "product_code                     0\n",
      "product_description              0\n",
      "sale_price_after_promo           0\n",
      "discountUsed                     0\n",
      "dtype: int64\n",
      "['BB-INDORE-MALHAR MEGA MALL' 'BB-AMRITSAR-TRILIUM MALL'\n",
      " 'BB-INDORE-TREASURE ISLAND' 'BB-LUDHIANA-FEROZEPUR-MF'\n",
      " 'BB-MADURAI-KOCHADAI VILLAGE' 'BB-HUBLI-GOKUL ROAD-AKSHAY CEN'\n",
      " 'BB-JAMSHEDPUR-NH-33']\n"
     ]
    }
   ],
   "source": [
    "print (cproducts.columns)\n",
    "print (cproducts.isnull().any())\n",
    "print (cproducts.isnull().sum())\n",
    "print (cproducts.store_description.unique())"
   ]
  },
  {
   "cell_type": "code",
   "execution_count": 36,
   "metadata": {
    "collapsed": false
   },
   "outputs": [
    {
     "name": "stdout",
     "output_type": "stream",
     "text": [
      "DOB\n",
      "1912-02-29    [BB-INDORE-MALHAR MEGA MALL, BB-LUDHIANA-FEROZ...\n",
      "1915-10-11    [BB-AMRITSAR-TRILIUM MALL, BB-INDORE-MALHAR ME...\n",
      "Name: store_description, dtype: object\n"
     ]
    }
   ],
   "source": [
    "#Same customer can visit multiple stores across the country\n",
    "#This implies we cannot cluster only by DOB of the customer\n",
    "group = cproducts.groupby('DOB')['store_description'].unique()\n",
    "print (group[group.apply(lambda x: len(x)>1)][:2])"
   ]
  },
  {
   "cell_type": "code",
   "execution_count": 39,
   "metadata": {
    "collapsed": false
   },
   "outputs": [
    {
     "name": "stdout",
     "output_type": "stream",
     "text": [
      "          DOB  Gender PaymentUsed   PinCode           State   customerID  \\\n",
      "0  1975-10-20    male         NaN  453441.0  MADHYA PRADESH   BBID_20482   \n",
      "1  1955-07-21  female         NaN  999999.0             NaN   BBID_20485   \n",
      "2  1981-03-19  female         NaN  400064.0     MAHARASHTRA   BBID_20498   \n",
      "3  1986-05-10    male         NaN  400099.0     MAHARASHTRA   BBID_20499   \n",
      "4  1988-02-29    male         NaN  474001.0  MADHYA PRADESH  BBID_204110   \n",
      "\n",
      "  discountUsed  payment_amount_by_tender  product_code  \\\n",
      "0      Payback                       NaN  1.000446e+09   \n",
      "1      Payback                       NaN  1.000010e+09   \n",
      "2      Payback                       NaN  1.000078e+12   \n",
      "3      Payback                       NaN  1.000443e+09   \n",
      "4      Payback                       NaN  3.004817e+08   \n",
      "\n",
      "                product_description  promo_code  \\\n",
      "0             PATANJALI CHOCOS 125g    NONPROMO   \n",
      "1        SOO FRESH ROLLS HOT DOG 4P    NONPROMO   \n",
      "2   DLJ-0010-BSF-2-CJ-FL, 34, BLACK  0000971754   \n",
      "3  PATANJALI TOMATO KETCHUP BT 500g    NONPROMO   \n",
      "4      MAGGI NDL MERI MASALA PP 70g  0000974126   \n",
      "\n",
      "                   promotion_description  sale_price_after_promo  store_code  \\\n",
      "0                                    NaN                   55.00        2655   \n",
      "1                                    NaN                   30.00        2655   \n",
      "2  AD 399 FLAT LADIES JEANS  FASHION EXC                  418.95        2655   \n",
      "3                                    NaN                   70.00        2615   \n",
      "4       NMP 5% OFF CONCEPT DISCOUNT 2655                   34.20        2655   \n",
      "\n",
      "            store_description tender_type  till_no transactionDate  \\\n",
      "0  BB-INDORE-MALHAR MEGA MALL         NaN        2      2016-05-01   \n",
      "1  BB-INDORE-MALHAR MEGA MALL         NaN        8      2017-03-09   \n",
      "2  BB-INDORE-MALHAR MEGA MALL         NaN       13      2015-08-12   \n",
      "3    BB-AMRITSAR-TRILIUM MALL         NaN       14      2016-12-18   \n",
      "4  BB-INDORE-MALHAR MEGA MALL         NaN        9      2015-12-31   \n",
      "\n",
      "   transaction_number_by_till  \n",
      "0                       85246  \n",
      "1                       78829  \n",
      "2                        1064  \n",
      "3                       51080  \n",
      "4                       21911  \n",
      "(161724, 19)\n"
     ]
    }
   ],
   "source": []
  },
  {
   "cell_type": "code",
   "execution_count": null,
   "metadata": {
    "collapsed": true
   },
   "outputs": [],
   "source": []
  }
 ],
 "metadata": {
  "kernelspec": {
   "display_name": "Python 2",
   "language": "python",
   "name": "python2"
  },
  "language_info": {
   "codemirror_mode": {
    "name": "ipython",
    "version": 2
   },
   "file_extension": ".py",
   "mimetype": "text/x-python",
   "name": "python",
   "nbconvert_exporter": "python",
   "pygments_lexer": "ipython2",
   "version": "2.7.12"
  }
 },
 "nbformat": 4,
 "nbformat_minor": 0
}
