{
 "cells": [
  {
   "cell_type": "code",
   "execution_count": 1,
   "metadata": {
    "collapsed": false
   },
   "outputs": [
    {
     "name": "stderr",
     "output_type": "stream",
     "text": [
      "/usr/local/lib/python2.7/dist-packages/pandas/core/computation/__init__.py:18: UserWarning: The installed version of numexpr 2.4.3 is not supported in pandas and will be not be used\n",
      "The minimum supported version is 2.4.6\n",
      "\n",
      "  ver=ver, min_ver=_MIN_NUMEXPR_VERSION), UserWarning)\n"
     ]
    }
   ],
   "source": [
    "import pandas as pd\n",
    "import numpy as np\n",
    "from sklearn.cluster import KMeans, AgglomerativeClustering\n",
    "from sklearn.metrics import silhouette_score\n",
    "from sklearn.preprocessing import LabelEncoder, RobustScaler, StandardScaler\n",
    "from sklearn import decomposition"
   ]
  },
  {
   "cell_type": "code",
   "execution_count": 2,
   "metadata": {
    "collapsed": false
   },
   "outputs": [],
   "source": [
    "## load data\n",
    "products = pd.read_csv('Dataset/cproducts.csv')\n",
    "cproducts = products.copy(deep=False)\n",
    "tender = pd.read_csv('Dataset/ctender.csv')"
   ]
  },
  {
   "cell_type": "code",
   "execution_count": 3,
   "metadata": {
    "collapsed": false
   },
   "outputs": [
    {
     "name": "stdout",
     "output_type": "stream",
     "text": [
      "product file has 11972 rows and 16 columns\n",
      "tender file has 149752 rows and 13 columns\n"
     ]
    }
   ],
   "source": [
    "## check shape of files\n",
    "print('product file has {} rows and {} columns'.format(products.shape[0], products.shape[1]))\n",
    "print('tender file has {} rows and {} columns'.format(tender.shape[0], tender.shape[1]))"
   ]
  },
  {
   "cell_type": "code",
   "execution_count": 4,
   "metadata": {
    "collapsed": false
   },
   "outputs": [
    {
     "data": {
      "text/html": [
       "<div>\n",
       "<style>\n",
       "    .dataframe thead tr:only-child th {\n",
       "        text-align: right;\n",
       "    }\n",
       "\n",
       "    .dataframe thead th {\n",
       "        text-align: left;\n",
       "    }\n",
       "\n",
       "    .dataframe tbody tr th {\n",
       "        vertical-align: top;\n",
       "    }\n",
       "</style>\n",
       "<table border=\"1\" class=\"dataframe\">\n",
       "  <thead>\n",
       "    <tr style=\"text-align: right;\">\n",
       "      <th></th>\n",
       "      <th>customerID</th>\n",
       "      <th>DOB</th>\n",
       "      <th>Gender</th>\n",
       "      <th>State</th>\n",
       "      <th>PinCode</th>\n",
       "      <th>transactionDate</th>\n",
       "      <th>store_code</th>\n",
       "      <th>store_description</th>\n",
       "      <th>till_no</th>\n",
       "      <th>transaction_number_by_till</th>\n",
       "      <th>promo_code</th>\n",
       "      <th>promotion_description</th>\n",
       "      <th>product_code</th>\n",
       "      <th>product_description</th>\n",
       "      <th>sale_price_after_promo</th>\n",
       "      <th>discountUsed</th>\n",
       "    </tr>\n",
       "  </thead>\n",
       "  <tbody>\n",
       "    <tr>\n",
       "      <th>0</th>\n",
       "      <td>BBID_20482</td>\n",
       "      <td>1975-10-20</td>\n",
       "      <td>male</td>\n",
       "      <td>MADHYA PRADESH</td>\n",
       "      <td>453441.0</td>\n",
       "      <td>2016-05-01</td>\n",
       "      <td>2655</td>\n",
       "      <td>BB-INDORE-MALHAR MEGA MALL</td>\n",
       "      <td>2</td>\n",
       "      <td>85246</td>\n",
       "      <td>NONPROMO</td>\n",
       "      <td>NaN</td>\n",
       "      <td>1000446431</td>\n",
       "      <td>PATANJALI CHOCOS 125g</td>\n",
       "      <td>55.00</td>\n",
       "      <td>Payback</td>\n",
       "    </tr>\n",
       "    <tr>\n",
       "      <th>1</th>\n",
       "      <td>BBID_20485</td>\n",
       "      <td>1955-07-21</td>\n",
       "      <td>female</td>\n",
       "      <td>NaN</td>\n",
       "      <td>999999.0</td>\n",
       "      <td>2017-03-09</td>\n",
       "      <td>2655</td>\n",
       "      <td>BB-INDORE-MALHAR MEGA MALL</td>\n",
       "      <td>8</td>\n",
       "      <td>78829</td>\n",
       "      <td>NONPROMO</td>\n",
       "      <td>NaN</td>\n",
       "      <td>1000010431</td>\n",
       "      <td>SOO FRESH ROLLS HOT DOG 4P</td>\n",
       "      <td>30.00</td>\n",
       "      <td>Payback</td>\n",
       "    </tr>\n",
       "    <tr>\n",
       "      <th>2</th>\n",
       "      <td>BBID_20498</td>\n",
       "      <td>1981-03-19</td>\n",
       "      <td>female</td>\n",
       "      <td>MAHARASHTRA</td>\n",
       "      <td>400064.0</td>\n",
       "      <td>2015-08-12</td>\n",
       "      <td>2655</td>\n",
       "      <td>BB-INDORE-MALHAR MEGA MALL</td>\n",
       "      <td>13</td>\n",
       "      <td>1064</td>\n",
       "      <td>0000971754</td>\n",
       "      <td>AD 399 FLAT LADIES JEANS  FASHION EXC</td>\n",
       "      <td>1000077851005</td>\n",
       "      <td>DLJ-0010-BSF-2-CJ-FL, 34, BLACK</td>\n",
       "      <td>418.95</td>\n",
       "      <td>Payback</td>\n",
       "    </tr>\n",
       "    <tr>\n",
       "      <th>3</th>\n",
       "      <td>BBID_20499</td>\n",
       "      <td>1986-05-10</td>\n",
       "      <td>male</td>\n",
       "      <td>MAHARASHTRA</td>\n",
       "      <td>400099.0</td>\n",
       "      <td>2016-12-18</td>\n",
       "      <td>2615</td>\n",
       "      <td>BB-AMRITSAR-TRILIUM MALL</td>\n",
       "      <td>14</td>\n",
       "      <td>51080</td>\n",
       "      <td>NONPROMO</td>\n",
       "      <td>NaN</td>\n",
       "      <td>1000443231</td>\n",
       "      <td>PATANJALI TOMATO KETCHUP BT 500g</td>\n",
       "      <td>70.00</td>\n",
       "      <td>Payback</td>\n",
       "    </tr>\n",
       "    <tr>\n",
       "      <th>4</th>\n",
       "      <td>BBID_204110</td>\n",
       "      <td>1988-02-29</td>\n",
       "      <td>male</td>\n",
       "      <td>MADHYA PRADESH</td>\n",
       "      <td>474001.0</td>\n",
       "      <td>2015-12-31</td>\n",
       "      <td>2655</td>\n",
       "      <td>BB-INDORE-MALHAR MEGA MALL</td>\n",
       "      <td>9</td>\n",
       "      <td>21911</td>\n",
       "      <td>0000974126</td>\n",
       "      <td>NMP 5% OFF CONCEPT DISCOUNT 2655</td>\n",
       "      <td>300481741</td>\n",
       "      <td>MAGGI NDL MERI MASALA PP 70g</td>\n",
       "      <td>34.20</td>\n",
       "      <td>Payback</td>\n",
       "    </tr>\n",
       "  </tbody>\n",
       "</table>\n",
       "</div>"
      ],
      "text/plain": [
       "    customerID         DOB  Gender           State   PinCode transactionDate  \\\n",
       "0   BBID_20482  1975-10-20    male  MADHYA PRADESH  453441.0      2016-05-01   \n",
       "1   BBID_20485  1955-07-21  female             NaN  999999.0      2017-03-09   \n",
       "2   BBID_20498  1981-03-19  female     MAHARASHTRA  400064.0      2015-08-12   \n",
       "3   BBID_20499  1986-05-10    male     MAHARASHTRA  400099.0      2016-12-18   \n",
       "4  BBID_204110  1988-02-29    male  MADHYA PRADESH  474001.0      2015-12-31   \n",
       "\n",
       "   store_code           store_description  till_no  \\\n",
       "0        2655  BB-INDORE-MALHAR MEGA MALL        2   \n",
       "1        2655  BB-INDORE-MALHAR MEGA MALL        8   \n",
       "2        2655  BB-INDORE-MALHAR MEGA MALL       13   \n",
       "3        2615    BB-AMRITSAR-TRILIUM MALL       14   \n",
       "4        2655  BB-INDORE-MALHAR MEGA MALL        9   \n",
       "\n",
       "   transaction_number_by_till  promo_code  \\\n",
       "0                       85246    NONPROMO   \n",
       "1                       78829    NONPROMO   \n",
       "2                        1064  0000971754   \n",
       "3                       51080    NONPROMO   \n",
       "4                       21911  0000974126   \n",
       "\n",
       "                   promotion_description   product_code  \\\n",
       "0                                    NaN     1000446431   \n",
       "1                                    NaN     1000010431   \n",
       "2  AD 399 FLAT LADIES JEANS  FASHION EXC  1000077851005   \n",
       "3                                    NaN     1000443231   \n",
       "4       NMP 5% OFF CONCEPT DISCOUNT 2655      300481741   \n",
       "\n",
       "                product_description  sale_price_after_promo discountUsed  \n",
       "0             PATANJALI CHOCOS 125g                   55.00      Payback  \n",
       "1        SOO FRESH ROLLS HOT DOG 4P                   30.00      Payback  \n",
       "2   DLJ-0010-BSF-2-CJ-FL, 34, BLACK                  418.95      Payback  \n",
       "3  PATANJALI TOMATO KETCHUP BT 500g                   70.00      Payback  \n",
       "4      MAGGI NDL MERI MASALA PP 70g                   34.20      Payback  "
      ]
     },
     "execution_count": 4,
     "metadata": {},
     "output_type": "execute_result"
    }
   ],
   "source": [
    "# this data file contains product level information of transactions made by customers\n",
    "products.head()"
   ]
  },
  {
   "cell_type": "code",
   "execution_count": 5,
   "metadata": {
    "collapsed": false
   },
   "outputs": [
    {
     "data": {
      "text/html": [
       "<div>\n",
       "<style>\n",
       "    .dataframe thead tr:only-child th {\n",
       "        text-align: right;\n",
       "    }\n",
       "\n",
       "    .dataframe thead th {\n",
       "        text-align: left;\n",
       "    }\n",
       "\n",
       "    .dataframe tbody tr th {\n",
       "        vertical-align: top;\n",
       "    }\n",
       "</style>\n",
       "<table border=\"1\" class=\"dataframe\">\n",
       "  <thead>\n",
       "    <tr style=\"text-align: right;\">\n",
       "      <th></th>\n",
       "      <th>customerID</th>\n",
       "      <th>DOB</th>\n",
       "      <th>Gender</th>\n",
       "      <th>State</th>\n",
       "      <th>PinCode</th>\n",
       "      <th>transactionDate</th>\n",
       "      <th>store_code</th>\n",
       "      <th>store_description</th>\n",
       "      <th>till_no</th>\n",
       "      <th>tender_type</th>\n",
       "      <th>transaction_number_by_till</th>\n",
       "      <th>payment_amount_by_tender</th>\n",
       "      <th>PaymentUsed</th>\n",
       "    </tr>\n",
       "  </thead>\n",
       "  <tbody>\n",
       "    <tr>\n",
       "      <th>0</th>\n",
       "      <td>BBID_2044</td>\n",
       "      <td>1984-04-02</td>\n",
       "      <td>male</td>\n",
       "      <td>NaN</td>\n",
       "      <td>626125.0</td>\n",
       "      <td>2015-09-03</td>\n",
       "      <td>4986</td>\n",
       "      <td>BB-MADURAI-KOCHADAI VILLAGE</td>\n",
       "      <td>22</td>\n",
       "      <td>GVOWN</td>\n",
       "      <td>9208</td>\n",
       "      <td>1000.00</td>\n",
       "      <td>GiftVoucher</td>\n",
       "    </tr>\n",
       "    <tr>\n",
       "      <th>1</th>\n",
       "      <td>BBID_2044</td>\n",
       "      <td>1984-04-02</td>\n",
       "      <td>male</td>\n",
       "      <td>NaN</td>\n",
       "      <td>626125.0</td>\n",
       "      <td>2015-09-03</td>\n",
       "      <td>4986</td>\n",
       "      <td>BB-MADURAI-KOCHADAI VILLAGE</td>\n",
       "      <td>22</td>\n",
       "      <td>CASH</td>\n",
       "      <td>9208</td>\n",
       "      <td>10.46</td>\n",
       "      <td>CASH</td>\n",
       "    </tr>\n",
       "    <tr>\n",
       "      <th>2</th>\n",
       "      <td>BBID_2044</td>\n",
       "      <td>1984-04-02</td>\n",
       "      <td>male</td>\n",
       "      <td>NaN</td>\n",
       "      <td>626125.0</td>\n",
       "      <td>2016-04-17</td>\n",
       "      <td>4986</td>\n",
       "      <td>BB-MADURAI-KOCHADAI VILLAGE</td>\n",
       "      <td>19</td>\n",
       "      <td>EDCAXIS</td>\n",
       "      <td>90269</td>\n",
       "      <td>677.28</td>\n",
       "      <td>AXIS</td>\n",
       "    </tr>\n",
       "    <tr>\n",
       "      <th>3</th>\n",
       "      <td>BBID_2044</td>\n",
       "      <td>1984-04-02</td>\n",
       "      <td>male</td>\n",
       "      <td>NaN</td>\n",
       "      <td>626125.0</td>\n",
       "      <td>2016-04-17</td>\n",
       "      <td>4986</td>\n",
       "      <td>BB-MADURAI-KOCHADAI VILLAGE</td>\n",
       "      <td>19</td>\n",
       "      <td>MOBI</td>\n",
       "      <td>90268</td>\n",
       "      <td>1042.00</td>\n",
       "      <td>One MobiKwik Systems</td>\n",
       "    </tr>\n",
       "    <tr>\n",
       "      <th>4</th>\n",
       "      <td>BBID_2044</td>\n",
       "      <td>1984-04-02</td>\n",
       "      <td>male</td>\n",
       "      <td>NaN</td>\n",
       "      <td>626125.0</td>\n",
       "      <td>2016-04-17</td>\n",
       "      <td>4986</td>\n",
       "      <td>BB-MADURAI-KOCHADAI VILLAGE</td>\n",
       "      <td>19</td>\n",
       "      <td>MOBI</td>\n",
       "      <td>90269</td>\n",
       "      <td>1000.00</td>\n",
       "      <td>One MobiKwik Systems</td>\n",
       "    </tr>\n",
       "  </tbody>\n",
       "</table>\n",
       "</div>"
      ],
      "text/plain": [
       "  customerID         DOB Gender State   PinCode transactionDate  store_code  \\\n",
       "0  BBID_2044  1984-04-02   male   NaN  626125.0      2015-09-03        4986   \n",
       "1  BBID_2044  1984-04-02   male   NaN  626125.0      2015-09-03        4986   \n",
       "2  BBID_2044  1984-04-02   male   NaN  626125.0      2016-04-17        4986   \n",
       "3  BBID_2044  1984-04-02   male   NaN  626125.0      2016-04-17        4986   \n",
       "4  BBID_2044  1984-04-02   male   NaN  626125.0      2016-04-17        4986   \n",
       "\n",
       "             store_description  till_no tender_type  \\\n",
       "0  BB-MADURAI-KOCHADAI VILLAGE       22       GVOWN   \n",
       "1  BB-MADURAI-KOCHADAI VILLAGE       22        CASH   \n",
       "2  BB-MADURAI-KOCHADAI VILLAGE       19     EDCAXIS   \n",
       "3  BB-MADURAI-KOCHADAI VILLAGE       19        MOBI   \n",
       "4  BB-MADURAI-KOCHADAI VILLAGE       19        MOBI   \n",
       "\n",
       "   transaction_number_by_till  payment_amount_by_tender           PaymentUsed  \n",
       "0                        9208                   1000.00           GiftVoucher  \n",
       "1                        9208                     10.46                  CASH  \n",
       "2                       90269                    677.28                  AXIS  \n",
       "3                       90268                   1042.00  One MobiKwik Systems  \n",
       "4                       90269                   1000.00  One MobiKwik Systems  "
      ]
     },
     "execution_count": 5,
     "metadata": {},
     "output_type": "execute_result"
    }
   ],
   "source": [
    "# this file contains payment mode information used by customers in their transactions\n",
    "tender.head()"
   ]
  },
  {
   "cell_type": "markdown",
   "metadata": {},
   "source": [
    "### Note:\n",
    "Let's build a simple model using products file only. We have to create clusters of customers at store level. We'll use k-means algorithm. We'll set value of k as 3 (you can tune and find optimal value)\n",
    "\n",
    "Clustering process is as follows (work-wise):\n",
    "1. Convert the data into numeric / float.\n",
    "2. Since clustering using distance measure, don't forget to scale the data. \n",
    "3. Create a matrix /array which will be feeded to the algorithm.\n",
    "4. Run function.\n",
    "\n",
    "We'll ensure that sequence of data remains unaffected. Let's see how this is done."
   ]
  },
  {
   "cell_type": "code",
   "execution_count": 6,
   "metadata": {
    "collapsed": false
   },
   "outputs": [],
   "source": [
    "## fill missing values\n",
    "\n",
    "products['promotion_description'].fillna('no_promo', inplace=True)\n",
    "products['Gender'].fillna('no_gender', inplace=True)\n",
    "products['State'].fillna('no_state', inplace=True)\n",
    "products['PinCode'].fillna(-1, inplace=True)\n",
    "products['DOB'].fillna(\"1\", inplace=True)\n",
    "\n",
    "tender['Gender'].fillna('no_gender', inplace=True)\n",
    "tender['State'].fillna('no_state', inplace=True)\n",
    "tender['PinCode'].fillna(-1, inplace=True)\n",
    "tender['DOB'].fillna(\"1\", inplace=True)\n",
    "tender['PaymentUsed'].fillna(\"no_mode\", inplace=True)"
   ]
  },
  {
   "cell_type": "code",
   "execution_count": 7,
   "metadata": {
    "collapsed": false
   },
   "outputs": [
    {
     "name": "stdout",
     "output_type": "stream",
     "text": [
      "(161724, 19)\n",
      "          DOB  Gender PaymentUsed   PinCode           State  customerID  \\\n",
      "0  1975-10-20    male         NaN  453441.0  MADHYA PRADESH  BBID_20482   \n",
      "1  1955-07-21  female         NaN  999999.0        no_state  BBID_20485   \n",
      "\n",
      "  discountUsed  payment_amount_by_tender  product_code  \\\n",
      "0      Payback                       NaN  1.000446e+09   \n",
      "1      Payback                       NaN  1.000010e+09   \n",
      "\n",
      "          product_description promo_code promotion_description  \\\n",
      "0       PATANJALI CHOCOS 125g   NONPROMO              no_promo   \n",
      "1  SOO FRESH ROLLS HOT DOG 4P   NONPROMO              no_promo   \n",
      "\n",
      "   sale_price_after_promo  store_code           store_description tender_type  \\\n",
      "0                    55.0        2655  BB-INDORE-MALHAR MEGA MALL         NaN   \n",
      "1                    30.0        2655  BB-INDORE-MALHAR MEGA MALL         NaN   \n",
      "\n",
      "   till_no transactionDate  transaction_number_by_till  \n",
      "0        2      2016-05-01                       85246  \n",
      "1        8      2017-03-09                       78829  \n",
      "DOB                           False\n",
      "Gender                        False\n",
      "PaymentUsed                    True\n",
      "PinCode                       False\n",
      "State                         False\n",
      "customerID                    False\n",
      "discountUsed                   True\n",
      "payment_amount_by_tender       True\n",
      "product_code                   True\n",
      "product_description            True\n",
      "promo_code                     True\n",
      "promotion_description          True\n",
      "sale_price_after_promo         True\n",
      "store_code                    False\n",
      "store_description             False\n",
      "tender_type                    True\n",
      "till_no                       False\n",
      "transactionDate               False\n",
      "transaction_number_by_till    False\n",
      "dtype: bool\n"
     ]
    }
   ],
   "source": [
    "bigdata = pd.concat([products, tender])\n",
    "#bigdata = bigdata[:70000]\n",
    "print (bigdata.shape)\n",
    "print (bigdata.head(2))\n",
    "print (bigdata.isnull().any())\n",
    "## convert data into numeric / float\n",
    "\n",
    "for c in products.columns:\n",
    "    lbl = LabelEncoder()\n",
    "    if products[c].dtype == 'object' and c not in ['transactionDate']:\n",
    "        products[c] = lbl.fit_transform(products[c])\n",
    "        \n",
    "# for c in bigdata.columns:\n",
    "#     lbl1 = LabelEncoder()\n",
    "#     if bigdata[c].dtype == 'object' and c not in ['transactionDate', 'PaymentUsed', 'discountUsed', 'payment_amount_by_tender', 'product_description', 'product_code', 'promo_code', 'promotion_description', 'sale_price_after_promo', 'tender_type']:\n",
    "#         bigdata[c] = lbl1.fit_transform(bigdata[c])\n",
    "        "
   ]
  },
  {
   "cell_type": "code",
   "execution_count": 60,
   "metadata": {
    "collapsed": false
   },
   "outputs": [
    {
     "name": "stdout",
     "output_type": "stream",
     "text": [
      "[4843, 3692, 2615, 2906, 4796, 4986, 2655]\n"
     ]
    },
    {
     "name": "stderr",
     "output_type": "stream",
     "text": [
      "/usr/local/lib/python2.7/dist-packages/ipykernel/__main__.py:18: SettingWithCopyWarning: \n",
      "A value is trying to be set on a copy of a slice from a DataFrame\n",
      "\n",
      "See the caveats in the documentation: http://pandas.pydata.org/pandas-docs/stable/indexing.html#indexing-view-versus-copy\n"
     ]
    }
   ],
   "source": [
    "## scaling, creating matrix and running k-means\n",
    "\n",
    "stores = list(set(products['store_code']))\n",
    "print (stores)\n",
    "cluster_labels = []\n",
    "cluster_store = []\n",
    "cluster_data = []\n",
    "cluster_customers = []\n",
    "cluster_score = []\n",
    "cluster_scores = []\n",
    "cluster_errors = []\n",
    "# for i in range(2, 25):\n",
    "#     cluster_score = []    \n",
    "for x in stores:\n",
    "    cld = products[products['store_code'] == x]\n",
    "    cld1 = cproducts[products['store_code'] == x]\n",
    "    cluster_customers.append(cld1['customerID'])\n",
    "    cld.drop(['transactionDate', 'Gender', 'State', 'PinCode', 'DOB', 'promotion_description', 'promo_code', 'discountUsed'], axis=1, inplace=True)\n",
    "\n",
    "#     c = bigdata[bigdata['store_code'] == x]\n",
    "#     c.drop(['transactionDate', 'PaymentUsed', 'discountUsed', 'payment_amount_by_tender', 'product_description', 'product_code', 'promo_code', 'promotion_description', 'sale_price_after_promo', 'tender_type'], axis=1, inplace=True)    \n",
    "\n",
    "    rbs = RobustScaler()\n",
    "    #c = rbs.fit_transform(c)\n",
    "    cld2_reduced = rbs.fit_transform(cld)\n",
    "\n",
    "#         pca = decomposition.PCA(n_components=2)\n",
    "#     #     pca.fit(cld2)\n",
    "#     #     print (pca.explained_variance_)\n",
    "#         #c_reduced = pca.fit_transform(c)\n",
    "#         cld2_reduced = pca.fit_transform(cld2)\n",
    "\n",
    "\n",
    "#     if (x==3692):\n",
    "#         km1 = KMeans(n_clusters=2)\n",
    "#     #     km1.fit(cld2_reduced)\n",
    "#         #km2 = km1.fit(c_reduced)\n",
    "#         label = km1.fit_predict(cld2_reduced)\n",
    "#     elif (x == 4796 or x == 4986 or x==2906):\n",
    "#         km1 = KMeans(n_clusters=3)\n",
    "#     #     km1.fit(cld2_reduced)\n",
    "#         #km2 = km1.fit(c_reduced)\n",
    "#         label = km1.fit_predict(cld2_reduced)\n",
    "#     elif (x==2655):\n",
    "#         km1 = KMeans(n_clusters=5)\n",
    "#     #     km1.fit(cld2_reduced)\n",
    "#         #km2 = km1.fit(c_reduced)\n",
    "#         label = km1.fit_predict(cld2_reduced)\n",
    "#     elif (x==4843 or x==2615):\n",
    "#         km1 = KMeans(n_clusters=8)\n",
    "#     #     km1.fit(cld2_reduced)\n",
    "#         #km2 = km1.fit(c_reduced)\n",
    "#         label = km1.fit_predict(cld2_reduced)\n",
    "    km1 = KMeans(n_clusters=2)\n",
    "#     km1.fit(cld2_reduced)\n",
    "    #km2 = km1.fit(c_reduced)\n",
    "    label = km1.fit_predict(cld2_reduced)\n",
    "\n",
    "    s_score = silhouette_score(cld2_reduced, label)\n",
    "#         print (\"Score\", s_score)\n",
    "    cluster_score.append(s_score)\n",
    "\n",
    "    cluster_labels.append(label)\n",
    "    cluster_store.append(np.repeat(x, cld.shape[0]))\n",
    "    cluster_data.append(cld2_reduced)\n",
    "#     print (i, cluster_score)\n",
    "#     cluster_scores.append(cluster_score)\n",
    "# #print (cluster_scores)    \n",
    "# print (len(cluster_scores))"
   ]
  },
  {
   "cell_type": "code",
   "execution_count": 61,
   "metadata": {
    "collapsed": false
   },
   "outputs": [
    {
     "name": "stdout",
     "output_type": "stream",
     "text": [
      "[0.9942880681813373, 0.99199826739820385, 0.99407724666182651, 0.99558465836194343, 0.99214752910339077, 0.99217967239295624, 0.99476008164349272]\n",
      "0.993576503392\n"
     ]
    }
   ],
   "source": [
    "# import matplotlib.pyplot as plt\n",
    "# %matplotlib inline\n",
    "# for i in range(8):\n",
    "#     plt.figure()\n",
    "#     print (i+2, cluster_scores[i])\n",
    "#     plt.scatter([i+2]*len(cluster_scores[i]), cluster_scores[i], color=['b', 'g', 'r', 'c', 'm', 'y', 'k', 'w'])\n",
    "#     plt.xlabel('Number of clusters')\n",
    "#     plt.ylabel('Mean silhouette score')\n",
    "    \n",
    "    \n",
    "# # # check mean score per store\n",
    "print (cluster_score)\n",
    "print (np.mean(cluster_score))\n",
    "\n",
    "\n",
    "# 2 clusters for store no 3692 \n",
    "# 3 clsuters for store no 4796 4986 2906 \n",
    "# 5 clusters for store no 2655\n",
    "# 8 clsuters for store no 4843 2615"
   ]
  },
  {
   "cell_type": "code",
   "execution_count": 62,
   "metadata": {
    "collapsed": true
   },
   "outputs": [],
   "source": [
    "## merge list into ndarray\n",
    "cluster_data = np.concatenate(cluster_data)"
   ]
  },
  {
   "cell_type": "code",
   "execution_count": 63,
   "metadata": {
    "collapsed": false
   },
   "outputs": [
    {
     "data": {
      "text/plain": [
       "(11972, 8)"
      ]
     },
     "execution_count": 63,
     "metadata": {},
     "output_type": "execute_result"
    }
   ],
   "source": [
    "## check if the array has same rows as products file - Yes!\n",
    "cluster_data.shape"
   ]
  },
  {
   "cell_type": "code",
   "execution_count": 64,
   "metadata": {
    "collapsed": false
   },
   "outputs": [],
   "source": [
    "## convert nested lists as 1d array\n",
    "cluster_customers = np.concatenate(cluster_customers)\n",
    "cluster_store = np.concatenate(cluster_store)\n",
    "cluster_labels = np.concatenate(cluster_labels)"
   ]
  },
  {
   "cell_type": "code",
   "execution_count": 65,
   "metadata": {
    "collapsed": false
   },
   "outputs": [
    {
     "name": "stdout",
     "output_type": "stream",
     "text": [
      "['BBID_211492' 'BBID_211496' 'BBID_2114866' 'BBID_2114880' 'BBID_2114885'\n",
      " 'BBID_2114885' 'BBID_2114944' 'BBID_2114953' 'BBID_2114967' 'BBID_2114979']\n"
     ]
    }
   ],
   "source": [
    "## create submission files\n",
    "print (cluster_customers[:10])\n",
    "sub1 = pd.DataFrame({'customerID':cluster_customers, 'store_code':cluster_store, 'cluster':cluster_labels})"
   ]
  },
  {
   "cell_type": "code",
   "execution_count": 66,
   "metadata": {
    "collapsed": true
   },
   "outputs": [],
   "source": [
    "np.savetxt('../subOne_reduced_features.txt', cluster_data)\n",
    "sub1.to_csv('../subtwo_reduced_features.csv', columns=['customerID', 'store_code', 'cluster'], index=False)"
   ]
  },
  {
   "cell_type": "markdown",
   "metadata": {},
   "source": [
    "#### Next step - go to the folder in your laptop, where these files are saved, zip them and upload on the challenge page and get score."
   ]
  },
  {
   "cell_type": "code",
   "execution_count": null,
   "metadata": {
    "collapsed": true
   },
   "outputs": [],
   "source": []
  }
 ],
 "metadata": {
  "kernelspec": {
   "display_name": "Python 2",
   "language": "python",
   "name": "python2"
  },
  "language_info": {
   "codemirror_mode": {
    "name": "ipython",
    "version": 2
   },
   "file_extension": ".py",
   "mimetype": "text/x-python",
   "name": "python",
   "nbconvert_exporter": "python",
   "pygments_lexer": "ipython2",
   "version": "2.7.12"
  }
 },
 "nbformat": 4,
 "nbformat_minor": 2
}
